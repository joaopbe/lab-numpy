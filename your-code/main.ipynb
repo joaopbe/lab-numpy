{
 "cells": [
  {
   "cell_type": "markdown",
   "metadata": {},
   "source": [
    "# Intrduction to NumPy\n",
    "\n",
    "\n",
    "#### 1. Import NumPy under the name np."
   ]
  },
  {
   "cell_type": "code",
   "execution_count": 2,
   "metadata": {},
   "outputs": [],
   "source": [
    "import numpy as np# your code here"
   ]
  },
  {
   "cell_type": "markdown",
   "metadata": {},
   "source": [
    "#### 2. Print your NumPy version."
   ]
  },
  {
   "cell_type": "code",
   "execution_count": 3,
   "metadata": {},
   "outputs": [
    {
     "data": {
      "text/plain": [
       "'1.17.2'"
      ]
     },
     "execution_count": 3,
     "metadata": {},
     "output_type": "execute_result"
    }
   ],
   "source": [
    "np.version.version"
   ]
  },
  {
   "cell_type": "markdown",
   "metadata": {},
   "source": [
    "#### 3. Generate a 2x3x5 3-dimensional array with random values. Assign the array to variable *a*.\n",
    "**Challenge**: there are at least three easy ways that use numpy to generate random arrays. How many ways can you find?"
   ]
  },
  {
   "cell_type": "code",
   "execution_count": 4,
   "metadata": {},
   "outputs": [
    {
     "data": {
      "text/plain": [
       "array([[[0.80192377, 0.07927071, 0.92332741, 0.29567035, 0.2754369 ],\n",
       "        [0.60421576, 0.52463199, 0.08307221, 0.14841183, 0.69836097],\n",
       "        [0.76166989, 0.03427547, 0.2393135 , 0.35700692, 0.34655561]],\n",
       "\n",
       "       [[0.5709747 , 0.4650664 , 0.07941604, 0.19495666, 0.19515428],\n",
       "        [0.3486418 , 0.03951058, 0.15345685, 0.32205818, 0.53388221],\n",
       "        [0.28419047, 0.51502379, 0.1392722 , 0.72763056, 0.01725346]]])"
      ]
     },
     "execution_count": 4,
     "metadata": {},
     "output_type": "execute_result"
    }
   ],
   "source": [
    "a = np.random.rand(2,3,5) \n",
    "a"
   ]
  },
  {
   "cell_type": "code",
   "execution_count": 5,
   "metadata": {},
   "outputs": [
    {
     "data": {
      "text/plain": [
       "array([[[0.53428595, 0.69088674, 0.61671384, 0.01569166, 0.3768081 ],\n",
       "        [0.59940649, 0.85782237, 0.31119841, 0.70553019, 0.72964368],\n",
       "        [0.69660932, 0.23440719, 0.242684  , 0.10818089, 0.45926301]],\n",
       "\n",
       "       [[0.35461952, 0.35852282, 0.93696106, 0.44662275, 0.12727906],\n",
       "        [0.7891333 , 0.64822401, 0.5455352 , 0.18663284, 0.35329708],\n",
       "        [0.07159887, 0.80259879, 0.69866282, 0.91522242, 0.82729156]]])"
      ]
     },
     "execution_count": 5,
     "metadata": {},
     "output_type": "execute_result"
    }
   ],
   "source": [
    "a = np.random.choice(10**8, size=(2,3,5))/(10**8) # to keep with same decimal plates & interval as previous\n",
    "a"
   ]
  },
  {
   "cell_type": "code",
   "execution_count": 6,
   "metadata": {},
   "outputs": [
    {
     "data": {
      "text/plain": [
       "array([[[0.16183433, 0.58498109, 0.56889758, 0.21827362, 0.14299773],\n",
       "        [0.24847285, 0.63889039, 0.18909729, 0.04703202, 0.88168408],\n",
       "        [0.62008769, 0.5181677 , 0.77804595, 0.2811388 , 0.91487449]],\n",
       "\n",
       "       [[0.38995703, 0.05149927, 0.72082426, 0.51558835, 0.71549209],\n",
       "        [0.36101849, 0.18603588, 0.54764081, 0.00185797, 0.81251314],\n",
       "        [0.23795039, 0.46989392, 0.99953652, 0.04549058, 0.18518391]]])"
      ]
     },
     "execution_count": 6,
     "metadata": {},
     "output_type": "execute_result"
    }
   ],
   "source": [
    "a = np.random.randint(10**8, size=(2,3,5))/10**8 # to keep with same decimal plates & interval as previous\n",
    "a"
   ]
  },
  {
   "cell_type": "markdown",
   "metadata": {},
   "source": [
    "#### 4. Print *a*.\n"
   ]
  },
  {
   "cell_type": "code",
   "execution_count": 7,
   "metadata": {},
   "outputs": [
    {
     "name": "stdout",
     "output_type": "stream",
     "text": [
      "[[[0.16183433 0.58498109 0.56889758 0.21827362 0.14299773]\n",
      "  [0.24847285 0.63889039 0.18909729 0.04703202 0.88168408]\n",
      "  [0.62008769 0.5181677  0.77804595 0.2811388  0.91487449]]\n",
      "\n",
      " [[0.38995703 0.05149927 0.72082426 0.51558835 0.71549209]\n",
      "  [0.36101849 0.18603588 0.54764081 0.00185797 0.81251314]\n",
      "  [0.23795039 0.46989392 0.99953652 0.04549058 0.18518391]]]\n"
     ]
    }
   ],
   "source": [
    "print (a)"
   ]
  },
  {
   "cell_type": "markdown",
   "metadata": {},
   "source": [
    "#### 5. Create a 5x2x3 3-dimensional array with all values equaling 1. Assign the array to variable *b*."
   ]
  },
  {
   "cell_type": "code",
   "execution_count": 23,
   "metadata": {},
   "outputs": [],
   "source": [
    "b = np.ones((5,2,3))"
   ]
  },
  {
   "cell_type": "markdown",
   "metadata": {},
   "source": [
    "#### 6. Print *b*.\n"
   ]
  },
  {
   "cell_type": "code",
   "execution_count": 24,
   "metadata": {},
   "outputs": [
    {
     "name": "stdout",
     "output_type": "stream",
     "text": [
      "[[[1. 1. 1.]\n",
      "  [1. 1. 1.]]\n",
      "\n",
      " [[1. 1. 1.]\n",
      "  [1. 1. 1.]]\n",
      "\n",
      " [[1. 1. 1.]\n",
      "  [1. 1. 1.]]\n",
      "\n",
      " [[1. 1. 1.]\n",
      "  [1. 1. 1.]]\n",
      "\n",
      " [[1. 1. 1.]\n",
      "  [1. 1. 1.]]]\n"
     ]
    }
   ],
   "source": [
    "print (b)"
   ]
  },
  {
   "cell_type": "markdown",
   "metadata": {},
   "source": [
    "#### 7. Do *a* and *b* have the same size? How do you prove that in Python code?"
   ]
  },
  {
   "cell_type": "code",
   "execution_count": 25,
   "metadata": {},
   "outputs": [
    {
     "data": {
      "text/plain": [
       "False"
      ]
     },
     "execution_count": 25,
     "metadata": {},
     "output_type": "execute_result"
    }
   ],
   "source": [
    "a.size == b.size\n",
    "\n",
    "a.shape == b.shape\n",
    "\n",
    "# They have the same size but different shapes"
   ]
  },
  {
   "cell_type": "markdown",
   "metadata": {},
   "source": [
    "#### 8. Are you able to add *a* and *b*? Why or why not?\n"
   ]
  },
  {
   "cell_type": "markdown",
   "metadata": {},
   "source": [
    "c = a + b \n",
    "\n",
    "#generates error because you cannot add two numpy arrays of different shapes \n",
    "# (like in algebra you cannot add two matrices of different shape)"
   ]
  },
  {
   "cell_type": "markdown",
   "metadata": {},
   "source": [
    "#### 9. Transpose *b* so that it has the same structure of *a* (i.e. become a 2x3x5 array). Assign the transposed array to variable *c*."
   ]
  },
  {
   "cell_type": "code",
   "execution_count": 27,
   "metadata": {},
   "outputs": [
    {
     "data": {
      "text/plain": [
       "(2, 3, 5)"
      ]
     },
     "execution_count": 27,
     "metadata": {},
     "output_type": "execute_result"
    }
   ],
   "source": [
    "c = b.transpose((1,2,0))\n",
    "c.shape"
   ]
  },
  {
   "cell_type": "markdown",
   "metadata": {},
   "source": [
    "#### 10. Try to add *a* and *c*. Now it should work. Assign the sum to variable *d*. But why does it work now?"
   ]
  },
  {
   "cell_type": "code",
   "execution_count": 28,
   "metadata": {},
   "outputs": [
    {
     "data": {
      "text/plain": [
       "array([[[1.16183433, 1.58498109, 1.56889758, 1.21827362, 1.14299773],\n",
       "        [1.24847285, 1.63889039, 1.18909729, 1.04703202, 1.88168408],\n",
       "        [1.62008769, 1.5181677 , 1.77804595, 1.2811388 , 1.91487449]],\n",
       "\n",
       "       [[1.38995703, 1.05149927, 1.72082426, 1.51558835, 1.71549209],\n",
       "        [1.36101849, 1.18603588, 1.54764081, 1.00185797, 1.81251314],\n",
       "        [1.23795039, 1.46989392, 1.99953652, 1.04549058, 1.18518391]]])"
      ]
     },
     "execution_count": 28,
     "metadata": {},
     "output_type": "execute_result"
    }
   ],
   "source": [
    "d = a + c\n",
    "d\n",
    "# it works because (5,3,2) transposed is (2,3,5) so now c and a have the same shape/dimensions"
   ]
  },
  {
   "cell_type": "markdown",
   "metadata": {},
   "source": [
    "#### 11. Print *a* and *d*. Notice the difference and relation of the two array in terms of the values? Explain."
   ]
  },
  {
   "cell_type": "code",
   "execution_count": 13,
   "metadata": {},
   "outputs": [
    {
     "name": "stdout",
     "output_type": "stream",
     "text": [
      "[[[0.16183433 0.58498109 0.56889758 0.21827362 0.14299773]\n",
      "  [0.24847285 0.63889039 0.18909729 0.04703202 0.88168408]\n",
      "  [0.62008769 0.5181677  0.77804595 0.2811388  0.91487449]]\n",
      "\n",
      " [[0.38995703 0.05149927 0.72082426 0.51558835 0.71549209]\n",
      "  [0.36101849 0.18603588 0.54764081 0.00185797 0.81251314]\n",
      "  [0.23795039 0.46989392 0.99953652 0.04549058 0.18518391]]]\n",
      "[[[1.16183433 1.58498109 1.56889758 1.21827362 1.14299773]\n",
      "  [1.24847285 1.63889039 1.18909729 1.04703202 1.88168408]\n",
      "  [1.62008769 1.5181677  1.77804595 1.2811388  1.91487449]]\n",
      "\n",
      " [[1.38995703 1.05149927 1.72082426 1.51558835 1.71549209]\n",
      "  [1.36101849 1.18603588 1.54764081 1.00185797 1.81251314]\n",
      "  [1.23795039 1.46989392 1.99953652 1.04549058 1.18518391]]]\n"
     ]
    }
   ],
   "source": [
    "print (a)\n",
    "print (d)\n",
    "\n",
    "#since we added to a an array of all 1's, d is just equivalent a+1 in every position"
   ]
  },
  {
   "cell_type": "markdown",
   "metadata": {},
   "source": [
    "#### 12. Multiply *a* and *c*. Assign the result to *e*."
   ]
  },
  {
   "cell_type": "code",
   "execution_count": 14,
   "metadata": {},
   "outputs": [
    {
     "data": {
      "text/plain": [
       "array([[[0.16183433, 0.58498109, 0.56889758, 0.21827362, 0.14299773],\n",
       "        [0.24847285, 0.63889039, 0.18909729, 0.04703202, 0.88168408],\n",
       "        [0.62008769, 0.5181677 , 0.77804595, 0.2811388 , 0.91487449]],\n",
       "\n",
       "       [[0.38995703, 0.05149927, 0.72082426, 0.51558835, 0.71549209],\n",
       "        [0.36101849, 0.18603588, 0.54764081, 0.00185797, 0.81251314],\n",
       "        [0.23795039, 0.46989392, 0.99953652, 0.04549058, 0.18518391]]])"
      ]
     },
     "execution_count": 14,
     "metadata": {},
     "output_type": "execute_result"
    }
   ],
   "source": [
    "e = a * c\n",
    "e"
   ]
  },
  {
   "cell_type": "markdown",
   "metadata": {},
   "source": [
    "#### 13. Does *e* equal to *a*? Why or why not?\n"
   ]
  },
  {
   "cell_type": "code",
   "execution_count": 15,
   "metadata": {},
   "outputs": [
    {
     "data": {
      "text/plain": [
       "array([[[ True,  True,  True,  True,  True],\n",
       "        [ True,  True,  True,  True,  True],\n",
       "        [ True,  True,  True,  True,  True]],\n",
       "\n",
       "       [[ True,  True,  True,  True,  True],\n",
       "        [ True,  True,  True,  True,  True],\n",
       "        [ True,  True,  True,  True,  True]]])"
      ]
     },
     "execution_count": 15,
     "metadata": {},
     "output_type": "execute_result"
    }
   ],
   "source": [
    "e == a\n",
    "\n",
    "# Yes, e == a because I used * that is element wise multiplication and so we multiply each element by 1. "
   ]
  },
  {
   "cell_type": "markdown",
   "metadata": {},
   "source": [
    "#### 14. Identify the max, min, and mean values in *d*. Assign those values to variables *d_max*, *d_min* and *d_mean*."
   ]
  },
  {
   "cell_type": "code",
   "execution_count": 16,
   "metadata": {},
   "outputs": [
    {
     "name": "stdout",
     "output_type": "stream",
     "text": [
      "1.99953652 1.00185797 1.4344986073333332\n"
     ]
    }
   ],
   "source": [
    "d_max = np.max(d)\n",
    "d_min = np.min(d)\n",
    "d_mean = np.mean(d)\n",
    "\n",
    "print(d_max, d_min, d_mean)"
   ]
  },
  {
   "cell_type": "markdown",
   "metadata": {},
   "source": [
    "#### 15. Now we want to label the values in *d*. First create an empty array *f* with the same shape (i.e. 2x3x5) as *d* using `np.empty`.\n"
   ]
  },
  {
   "cell_type": "code",
   "execution_count": 17,
   "metadata": {},
   "outputs": [
    {
     "data": {
      "text/plain": [
       "array([[[0.16183433, 0.58498109, 0.56889758, 0.21827362, 0.14299773],\n",
       "        [0.24847285, 0.63889039, 0.18909729, 0.04703202, 0.88168408],\n",
       "        [0.62008769, 0.5181677 , 0.77804595, 0.2811388 , 0.91487449]],\n",
       "\n",
       "       [[0.38995703, 0.05149927, 0.72082426, 0.51558835, 0.71549209],\n",
       "        [0.36101849, 0.18603588, 0.54764081, 0.00185797, 0.81251314],\n",
       "        [0.23795039, 0.46989392, 0.99953652, 0.04549058, 0.18518391]]])"
      ]
     },
     "execution_count": 17,
     "metadata": {},
     "output_type": "execute_result"
    }
   ],
   "source": [
    "f = np.empty((2,3,5))\n",
    "f\n",
    "# do not understand why f is initialized to the same values as a???"
   ]
  },
  {
   "cell_type": "markdown",
   "metadata": {},
   "source": [
    "#### 16. Populate the values in *f*. \n",
    "\n",
    "For each value in *d*, if it's larger than *d_min* but smaller than *d_mean*, assign 25 to the corresponding value in *f*. If a value in *d* is larger than *d_mean* but smaller than *d_max*, assign 75 to the corresponding value in *f*. If a value equals to *d_mean*, assign 50 to the corresponding value in *f*. Assign 0 to the corresponding value(s) in *f* for *d_min* in *d*. Assign 100 to the corresponding value(s) in *f* for *d_max* in *d*. In the end, f should have only the following values: 0, 25, 50, 75, and 100.\n",
    "\n",
    "**Note**: you don't have to use Numpy in this question."
   ]
  },
  {
   "cell_type": "code",
   "execution_count": 18,
   "metadata": {},
   "outputs": [],
   "source": [
    "#old school\n",
    "\n",
    "for i in range(d.shape[0]):\n",
    "    for j in range(d.shape[1]):\n",
    "        for k in range(d.shape[2]):\n",
    "            if d_min < d[i,j,k] < d_mean:\n",
    "                f[i,j,k] = 25\n",
    "            elif d_mean < d[i,j,k] < d_max:\n",
    "                f[i,j,k] = 75\n",
    "            elif d[i,j,k] == d_mean:\n",
    "                f[i,j,k] = 50\n",
    "            elif d[i,j,k] == d_min:\n",
    "                f[i,j,k] = 0\n",
    "            elif d[i,j,k] == d_max:\n",
    "                f[i,j,k] = 100"
   ]
  },
  {
   "cell_type": "code",
   "execution_count": 19,
   "metadata": {},
   "outputs": [
    {
     "name": "stdout",
     "output_type": "stream",
     "text": [
      "[[[1.16183433 1.58498109 1.56889758 1.21827362 1.14299773]\n",
      "  [1.24847285 1.63889039 1.18909729 1.04703202 1.88168408]\n",
      "  [1.62008769 1.5181677  1.77804595 1.2811388  1.91487449]]\n",
      "\n",
      " [[1.38995703 1.05149927 1.72082426 1.51558835 1.71549209]\n",
      "  [1.36101849 1.18603588 1.54764081 1.00185797 1.81251314]\n",
      "  [1.23795039 1.46989392 1.99953652 1.04549058 1.18518391]]]\n",
      "[[[ 25  75  75  25  25]\n",
      "  [ 25  75  25  25  75]\n",
      "  [ 75  75  75  25  75]]\n",
      "\n",
      " [[ 25  25  75  75  75]\n",
      "  [ 25  25  75   0  75]\n",
      "  [ 25  75 100  25  25]]]\n"
     ]
    }
   ],
   "source": [
    "# no tabbing version\n",
    "\n",
    "# sum all for conditions above in one line\n",
    "# d=d_min is filled by default\n",
    "f = np.where((d > d_min) & (d < d_mean),25,0) + np.where((d > d_mean) & (d < d_max),75,0) + np.where(d == d_mean,50,0) + np.where(d == d_max,100,0)\n",
    "\n",
    "print(d)\n",
    "print(f)"
   ]
  },
  {
   "cell_type": "markdown",
   "metadata": {},
   "source": [
    "#### 17. Print *d* and *f*. Do you have your expected *f*?\n",
    "For instance, if your *d* is:\n",
    "```python\n",
    "[[[1.85836099, 1.67064465, 1.62576044, 1.40243961, 1.88454931],\n",
    "[1.75354326, 1.69403643, 1.36729252, 1.61415071, 1.12104981],\n",
    "[1.72201435, 1.1862918 , 1.87078449, 1.7726778 , 1.88180042]],\n",
    "[[1.44747908, 1.31673383, 1.02000951, 1.52218947, 1.97066381],\n",
    "[1.79129243, 1.74983003, 1.96028037, 1.85166831, 1.65450881],\n",
    "[1.18068344, 1.9587381 , 1.00656599, 1.93402165, 1.73514584]]]\n",
    "```\n",
    "Your *f* should be:\n",
    "```python\n",
    "[[[ 75.,  75.,  75.,  25.,  75.],\n",
    "[ 75.,  75.,  25.,  25.,  25.],\n",
    "[ 75.,  25.,  75.,  75.,  75.]],\n",
    "[[ 25.,  25.,  25.,  25., 100.],\n",
    "[ 75.,  75.,  75.,  75.,  75.],\n",
    "[ 25.,  75.,   0.,  75.,  75.]]]\n",
    "```"
   ]
  },
  {
   "cell_type": "code",
   "execution_count": 20,
   "metadata": {},
   "outputs": [
    {
     "name": "stdout",
     "output_type": "stream",
     "text": [
      "[[[1.16183433 1.58498109 1.56889758 1.21827362 1.14299773]\n",
      "  [1.24847285 1.63889039 1.18909729 1.04703202 1.88168408]\n",
      "  [1.62008769 1.5181677  1.77804595 1.2811388  1.91487449]]\n",
      "\n",
      " [[1.38995703 1.05149927 1.72082426 1.51558835 1.71549209]\n",
      "  [1.36101849 1.18603588 1.54764081 1.00185797 1.81251314]\n",
      "  [1.23795039 1.46989392 1.99953652 1.04549058 1.18518391]]]\n",
      "[[[ 25  75  75  25  25]\n",
      "  [ 25  75  25  25  75]\n",
      "  [ 75  75  75  25  75]]\n",
      "\n",
      " [[ 25  25  75  75  75]\n",
      "  [ 25  25  75   0  75]\n",
      "  [ 25  75 100  25  25]]]\n"
     ]
    }
   ],
   "source": [
    "print(d)\n",
    "print(f)"
   ]
  },
  {
   "cell_type": "markdown",
   "metadata": {},
   "source": [
    "#### 18. Bonus question: instead of using numbers (i.e. 0, 25, 50, 75, and 100), use string values  (\"A\", \"B\", \"C\", \"D\", and \"E\") to label the array elements. For the example above, the expected result is:\n",
    "\n",
    "```python\n",
    "[[[ 'D',  'D',  'D',  'B',  'D'],\n",
    "[ 'D',  'D',  'B',  'B',  'B'],\n",
    "[ 'D',  'B',  'D',  'D',  'D']],\n",
    "[[ 'B',  'B',  'B',  'B',  'E'],\n",
    "[ 'D',  'D',  'D',  'D',  'D'],\n",
    "[ 'B',  'D',   'A',  'D', 'D']]]\n",
    "```\n",
    "**Note**: you don't have to use Numpy in this question."
   ]
  },
  {
   "cell_type": "code",
   "execution_count": 21,
   "metadata": {},
   "outputs": [
    {
     "data": {
      "text/plain": [
       "array([[['B', 'D', 'D', 'B', 'B'],\n",
       "        ['B', 'D', 'B', 'B', 'D'],\n",
       "        ['D', 'D', 'D', 'B', 'D']],\n",
       "\n",
       "       [['B', 'B', 'D', 'D', 'D'],\n",
       "        ['B', 'B', 'D', 'A', 'D'],\n",
       "        ['B', 'D', 'E', 'B', 'B']]], dtype='<U5')"
      ]
     },
     "execution_count": 21,
     "metadata": {},
     "output_type": "execute_result"
    }
   ],
   "source": [
    "f1 = np.where((d > d_min) & (d < d_mean),'B','') \n",
    "f2 = np.where((d > d_mean) & (d < d_max),'D','')\n",
    "f3 = np.where(d == d_mean,'C','') \n",
    "f4 = np.where(d == d_max,'E','')\n",
    "f5 = np.where(d == d_min,'A','')\n",
    "f = np.char.add(np.char.add(np.char.add(np.char.add(f1, f2),f3),f4),f5)\n",
    "f\n",
    "#could be old school for/if also"
   ]
  },
  {
   "cell_type": "code",
   "execution_count": null,
   "metadata": {},
   "outputs": [],
   "source": []
  }
 ],
 "metadata": {
  "kernelspec": {
   "display_name": "Python 3",
   "language": "python",
   "name": "python3"
  },
  "language_info": {
   "codemirror_mode": {
    "name": "ipython",
    "version": 3
   },
   "file_extension": ".py",
   "mimetype": "text/x-python",
   "name": "python",
   "nbconvert_exporter": "python",
   "pygments_lexer": "ipython3",
   "version": "3.7.4"
  }
 },
 "nbformat": 4,
 "nbformat_minor": 2
}
